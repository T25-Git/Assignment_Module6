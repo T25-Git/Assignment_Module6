{
 "cells": [
  {
   "cell_type": "markdown",
   "id": "37a519dc-ab04-4c86-8f38-ccb9c17c37c2",
   "metadata": {},
   "source": [
    "# Data Science Tools and Ecosystem"
   ]
  },
  {
   "cell_type": "markdown",
   "id": "8c2816a9-bfe0-48a9-ace8-dbefe4978b10",
   "metadata": {},
   "source": [
    "## Intoduction\n",
    "In this notebook, Data Science Tools and Ecosystem are summarized."
   ]
  },
  {
   "cell_type": "markdown",
   "id": "1884e93e-b416-4103-95f0-7a85c5f50577",
   "metadata": {},
   "source": [
    "**Objectives:**\n",
    "    \n",
    "- popular languages for Data Science\n",
    "- Commonly used libraries\n",
    "- development environment open source tools"
   ]
  },
  {
   "cell_type": "markdown",
   "id": "f629d46c-9a48-43e3-8b9a-5d19e730fea0",
   "metadata": {},
   "source": [
    "## Some of the popular languages that Data Scientists use are:\n",
    "1. Python\n",
    "2. R\n",
    "3. SQL"
   ]
  },
  {
   "cell_type": "markdown",
   "id": "d3b393f1-4a87-435f-8127-4c098cc81ef9",
   "metadata": {},
   "source": [
    "## Some of the commonly used libraries used by Data Scientists include:\n",
    "1. Pandas\n",
    "2. NumPy\n",
    "3. Matplotlib\n"
   ]
  },
  {
   "cell_type": "markdown",
   "id": "6d9956e8-1d1b-4d7b-9d8b-1296fcbceab3",
   "metadata": {},
   "source": [
    "## Development environment open source tools used in data science\n",
    "\n",
    "|Data Science Tools|\n",
    "|------------------|\n",
    "|Jupyter Notebook|\n",
    "|RStudio|\n",
    "|Visual Studito Code|\n",
    "\n"
   ]
  },
  {
   "cell_type": "markdown",
   "id": "f0a4c36b-62b8-486f-b750-8c8185d5727d",
   "metadata": {},
   "source": [
    "### Below are a few examples of evaluating arithmetic expressions in Python"
   ]
  },
  {
   "cell_type": "code",
   "execution_count": 3,
   "id": "de12c4df-c510-46e7-b0f5-7792d8e48644",
   "metadata": {},
   "outputs": [
    {
     "data": {
      "text/plain": [
       "17"
      ]
     },
     "execution_count": 3,
     "metadata": {},
     "output_type": "execute_result"
    }
   ],
   "source": [
    "# This a simple arithmetic expression to multiply then add integers\n",
    "(3*4)+5"
   ]
  },
  {
   "cell_type": "code",
   "execution_count": 4,
   "id": "8bbc60f9-67e1-4c72-9280-259bec3cf183",
   "metadata": {},
   "outputs": [
    {
     "name": "stdout",
     "output_type": "stream",
     "text": [
      "3.3333333333333335\n"
     ]
    }
   ],
   "source": [
    "# This will convert 200 minutes to hours by diving by 60.\n",
    "result = 200/60\n",
    "print(result)"
   ]
  },
  {
   "cell_type": "markdown",
   "id": "572a6da7-4e7b-48fc-89bd-ac29107c9485",
   "metadata": {},
   "source": [
    "## Author\n",
    "Your Name"
   ]
  },
  {
   "cell_type": "code",
   "execution_count": null,
   "id": "eb607a4f-de94-4b7d-9f10-653404c10b64",
   "metadata": {},
   "outputs": [],
   "source": []
  }
 ],
 "metadata": {
  "kernelspec": {
   "display_name": "Python 3 (ipykernel)",
   "language": "python",
   "name": "python3"
  },
  "language_info": {
   "codemirror_mode": {
    "name": "ipython",
    "version": 3
   },
   "file_extension": ".py",
   "mimetype": "text/x-python",
   "name": "python",
   "nbconvert_exporter": "python",
   "pygments_lexer": "ipython3",
   "version": "3.12.7"
  }
 },
 "nbformat": 4,
 "nbformat_minor": 5
}
